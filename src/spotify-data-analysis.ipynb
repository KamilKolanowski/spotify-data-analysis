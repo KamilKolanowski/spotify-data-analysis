{
 "cells": [
  {
   "cell_type": "code",
   "execution_count": 0,
   "metadata": {
    "application/vnd.databricks.v1+cell": {
     "cellMetadata": {
      "byteLimit": 2048000,
      "rowLimit": 10000
     },
     "inputWidgets": {},
     "nuid": "6da3e0ea-7ee9-4820-9804-e4a2820cc7af",
     "showTitle": false,
     "title": ""
    }
   },
   "outputs": [],
   "source": [
    "dbutils.widgets.text(\"BASE_URL\", \"https://api.spotify.com/v1\")\n",
    "dbutils.widgets.text(\"TOKEN_URL\", \"https://accounts.spotify.com/api/token\")\n",
    "dbutils.widgets.text(\"PlaylistId\", \"\")"
   ]
  },
  {
   "cell_type": "code",
   "execution_count": 0,
   "metadata": {
    "application/vnd.databricks.v1+cell": {
     "cellMetadata": {
      "byteLimit": 2048000,
      "rowLimit": 10000
     },
     "inputWidgets": {},
     "nuid": "e27d44b1-baf1-4af2-911f-fca4f791ac29",
     "showTitle": false,
     "title": ""
    }
   },
   "outputs": [],
   "source": [
    "client_id = dbutils.secrets.get(\"keys-scope\", \"client_id\")\n",
    "client_secret = dbutils.secrets.get(\"keys-scope\", \"client_secret\")"
   ]
  },
  {
   "cell_type": "code",
   "execution_count": 0,
   "metadata": {
    "application/vnd.databricks.v1+cell": {
     "cellMetadata": {
      "byteLimit": 2048000,
      "rowLimit": 10000
     },
     "inputWidgets": {},
     "nuid": "b944203f-83d8-4391-ad5d-7d92a66f31cd",
     "showTitle": false,
     "title": ""
    }
   },
   "outputs": [],
   "source": [
    "from pyspark.sql import SparkSession\n",
    "import pyspark.sql.functions as F\n",
    "import requests\n",
    "import json\n",
    "\n",
    "sc = spark.sparkContext\n",
    "\n",
    "class SpotifyAPI:\n",
    "    def __init__(self) -> object:\n",
    "        self.client_id = client_id\n",
    "        self.client_secret = client_secret\n",
    "        self.base_url = dbutils.widgets.get(\"BASE_URL\")\n",
    "        self.token_url = dbutils.widgets.get(\"TOKEN_URL\")\n",
    "\n",
    "    def get_access_token(self) -> str:\n",
    "        response = requests.post(\n",
    "            self.token_url,\n",
    "            data={\"grant_type\": \"client_credentials\"},\n",
    "            auth=(self.client_id, self.client_secret)\n",
    "        )\n",
    "\n",
    "        return response.json()[\"access_token\"]\n",
    "\n",
    "    def parse_json(self, endpoint: str, object_id: str = None, params: dict = {}) -> str:\n",
    "        url = f'{self.base_url}/{endpoint}/'\n",
    "\n",
    "        if object_id:\n",
    "            url += f\"{object_id}\"\n",
    "            \n",
    "        response = requests.get(\n",
    "            url,\n",
    "            headers=dict(Authorization=f\"Bearer {self.get_access_token()}\"),\n",
    "            params=params\n",
    "        )\n",
    "\n",
    "        if response.status_code == 200:\n",
    "            return response.json()\n",
    "        else:\n",
    "            print(f\"Failed to retrieve data due to the status code: {response.status_code}.\")\n",
    "\n",
    "    def process_single_row_objects(self, endpoint: str, objects: list) -> object:\n",
    "        objects_to_process = []\n",
    "\n",
    "        for obj in objects:\n",
    "            objects_to_process.append(self.parse_json(endpoint, obj))\n",
    "\n",
    "        obj_dict = sc.parallelize(objects_to_process).map(lambda x: json.dumps(x))\n",
    "        objs = spark.read.json(obj_dict)\n",
    "\n",
    "        return objs\n",
    "\n",
    "    @staticmethod\n",
    "    def read_json_to_df(obj) -> object:\n",
    "        return spark.read.json(sc.parallelize([json.dumps(obj)]))\n"
   ]
  },
  {
   "cell_type": "code",
   "execution_count": 0,
   "metadata": {
    "application/vnd.databricks.v1+cell": {
     "cellMetadata": {
      "byteLimit": 2048000,
      "rowLimit": 10000
     },
     "inputWidgets": {},
     "nuid": "4f13683e-3915-4eb4-af6a-fec44d5be46d",
     "showTitle": false,
     "title": ""
    }
   },
   "outputs": [],
   "source": [
    "if __name__ == \"__main__\":\n",
    "    # Define new object with API methods to process Spotify data\n",
    "    sp = SpotifyAPI()\n",
    "\n",
    "    playlist_id = dbutils.widgets.get(\"PlaylistId\")\n",
    "\n",
    "    def process_playlists(playlist_id: str):\n",
    "        playlists = sp.parse_json(\"playlists\", f\"{playlist_id}/tracks\")[\"items\"]\n",
    "\n",
    "        return sp.read_json_to_df(playlists)\n",
    "    \n",
    "    def get_most_popular_genres(playlist_id: str):\n",
    "        tracks = process_playlists(playlist_id)\n",
    "\n",
    "        return tracks\n",
    "    \n",
    "    def get_recommendations(track_ids: list):\n",
    "        params = {\n",
    "            \"seed_tracks\": \",\".join(track_ids),\n",
    "            \"limit\": 10,\n",
    "            \"min_energy\": 0.5,\n",
    "            \"min_popularity\": 75\n",
    "        }\n",
    "\n",
    "        return sp.read_json_to_df(sp.parse_json('recommendations', None, params))\n",
    "\n",
    "    def get_artists_name_ids(playlist_id: str):\n",
    "        artists = process_playlists(playlist_id).select(\n",
    "            F.col(\"track.artists.id\").alias(\"artist_id\"),\n",
    "            F.col(\"track.artists.name\").alias(\"artist_name\"),\n",
    "        )\n",
    "\n",
    "        artists_with_ids = artists.withColumn(\"id\", F.monotonically_increasing_id())\n",
    "\n",
    "        artists_id_exploded = artists_with_ids.selectExpr(\n",
    "            \"id\", \"posexplode(artist_id) as (id_index, artist_id)\"\n",
    "        )\n",
    "        artists_name_exploded = artists_with_ids.selectExpr(\n",
    "            \"id\", \"posexplode(artist_name) as (name_index, artist_name)\"\n",
    "        )\n",
    "\n",
    "        artists_matched = artists_id_exploded.join(\n",
    "            artists_name_exploded,\n",
    "            (artists_id_exploded[\"id\"] == artists_name_exploded[\"id\"])\n",
    "            & (artists_id_exploded[\"id_index\"] == artists_name_exploded[\"name_index\"]),\n",
    "        )\n",
    "\n",
    "        artists_matched = artists_matched.select(\"artist_id\", \"artist_name\")\n",
    "\n",
    "        return artists_matched\n",
    "\n",
    "    def get_playlists(playlist_id: str):\n",
    "\n",
    "        playlists = process_playlists(playlist_id).select(\n",
    "            F.col(\"track.album.album_type\"),\n",
    "            F.col(\"track.album.id\").alias(\"album_id\"),\n",
    "            F.col(\"track.album.name\").alias(\"album_name\"),\n",
    "            F.col(\"track.album.release_date\"),\n",
    "            F.col(\"track.album.total_tracks\"),\n",
    "            F.explode(F.col(\"track.artists.name\")).alias(\"artist_name\"),\n",
    "            F.col(\"track.duration_ms\"),\n",
    "            F.col(\"track.id\").alias(\"track_id\"),\n",
    "            F.col(\"track.name\").alias(\"track_name\"),\n",
    "            F.col(\"track.popularity\"),\n",
    "        )\n",
    "\n",
    "        return playlists\n",
    "    \n",
    "    def get_albums(albums_ids: list):\n",
    "        albums = (\n",
    "            sp.process_single_row_objects(\"albums\", albums_ids)\n",
    "            .select(\n",
    "                F.col(\"name\").alias(\"album_name\"),\n",
    "                F.col(\"release_date\"),\n",
    "                F.col(\"type\"),\n",
    "                F.col(\"artists.name\")[0].alias(\"artist_name\"),\n",
    "                F.explode(F.col(\"tracks.items.id\")).alias(\"track_id\"),\n",
    "                F.col(\"popularity\")\n",
    "            )\n",
    "        )\n",
    "\n",
    "        return albums\n",
    "\n",
    "    def get_albums_from_playlist(playlist_id: str):\n",
    "        \n",
    "        \"\"\" Based on the playlist id, retrieve list of all album ids, and return all the tracks from albums. \"\"\"\n",
    "\n",
    "        albums_ids = (\n",
    "            get_playlists(playlist_id)\n",
    "            .select(F.col(\"album_id\"))\n",
    "            .rdd\n",
    "            .flatMap(lambda album_id: album_id)\n",
    "            .collect()\n",
    "        )\n",
    "\n",
    "        albums = get_albums(albums_ids)\n",
    "\n",
    "        albums_ordered = (\n",
    "            albums\n",
    "            .distinct()\n",
    "        )\n",
    "        \n",
    "        return albums_ordered\n",
    "    \n",
    "    def get_tracks_list(playlist_id: str):\n",
    "        tracks_list = (\n",
    "            get_albums_from_playlist(playlist_id)\n",
    "            .select(F.col(\"track_id\"))\n",
    "            .rdd\n",
    "            .flatMap(lambda track_id: track_id)\n",
    "            .collect()\n",
    "        )\n",
    "\n",
    "        return tracks_list\n",
    "\n",
    "    def get_tracks(tracks_list: list):\n",
    "        return sp.process_single_row_objects(\"tracks\", tracks_list)\n",
    "    \n",
    "    def get_track_audio_features(tracks_list: list):\n",
    "        return sp.process_single_row_objects(\"audio-features\", tracks_list)\n"
   ]
  },
  {
   "cell_type": "code",
   "execution_count": 0,
   "metadata": {
    "application/vnd.databricks.v1+cell": {
     "cellMetadata": {
      "byteLimit": 2048000,
      "rowLimit": 10000
     },
     "inputWidgets": {},
     "nuid": "238997ec-ee73-416e-9c47-3f8e5b3f672a",
     "showTitle": false,
     "title": ""
    }
   },
   "outputs": [],
   "source": [
    "tracks_list = get_tracks_list(playlist_id)\n",
    "\n",
    "def get_albums_tracks_based_on_playlist(playlist_id: str):\n",
    "    albums = get_albums_from_playlist(playlist_id)\n",
    "    tracks = get_tracks(tracks_list)\n",
    "\n",
    "    albums_tracks_joined = albums.join(\n",
    "        tracks,\n",
    "        (albums[\"track_id\"] == tracks[\"id\"]),\n",
    "        how='inner'\n",
    "    )\n",
    "\n",
    "    albums_tracks_joined = albums_tracks_joined.drop(albums[\"popularity\"])\n",
    "\n",
    "    albums_tracks_joined_final = (\n",
    "        albums_tracks_joined\n",
    "        .select(\n",
    "            F.col(\"album_name\"),\n",
    "            F.col(\"release_date\"),\n",
    "            F.col(\"artist_name\"),\n",
    "            F.col(\"track_id\"),\n",
    "            F.col(\"name\").alias(\"track_name\"),\n",
    "            (F.col(\"duration_ms\") / 1000).alias('duration_seconds'), \n",
    "            F.col(\"popularity\"),\n",
    "            F.col(\"track_number\")\n",
    "        )\n",
    "    )\n",
    "\n",
    "    return albums_tracks_joined_final\n",
    "\n",
    "def get_audio_features_for_tracks():\n",
    "    audio_features_per_track = get_track_audio_features(tracks_list)\n",
    "\n",
    "    return (\n",
    "        audio_features_per_track\n",
    "        .select(\n",
    "            F.col(\"id\").alias(\"track_id\"),\n",
    "            F.col(\"acousticness\"),\n",
    "            F.col(\"danceability\"),\n",
    "            F.col(\"duration_ms\"),\n",
    "            F.col(\"energy\"),\n",
    "            F.col(\"instrumentalness\"),\n",
    "            F.col(\"key\"),\n",
    "            F.col(\"tempo\"),\n",
    "            F.col(\"liveness\"),\n",
    "            F.col(\"loudness\"),\n",
    "            F.col(\"time_signature\"),\n",
    "            F.col(\"valence\")\n",
    "        )\n",
    "    )\n"
   ]
  },
  {
   "cell_type": "code",
   "execution_count": 0,
   "metadata": {
    "application/vnd.databricks.v1+cell": {
     "cellMetadata": {
      "byteLimit": 2048000,
      "rowLimit": 10000
     },
     "inputWidgets": {},
     "nuid": "77de93ff-fd91-4eca-b63a-1724a862a673",
     "showTitle": false,
     "title": ""
    }
   },
   "outputs": [],
   "source": [
    "full_albums_from_playlist = get_albums_tracks_based_on_playlist(playlist_id)\n",
    "tracks_audio_features = get_audio_features_for_tracks()\n",
    "\n",
    "full_albums_with_audio_features = (\n",
    "    full_albums_from_playlist\n",
    "    .join(\n",
    "        tracks_audio_features,\n",
    "        on=\"track_id\",\n",
    "        how=\"inner\"\n",
    "    )\n",
    ")\n",
    "\n",
    "full_albums_from_playlist.createOrReplaceTempView(\"full_albums\")\n",
    "full_albums_with_audio_features.createOrReplaceTempView(\"full_albums_with_audio_features\")"
   ]
  },
  {
   "cell_type": "code",
   "execution_count": 0,
   "metadata": {
    "application/vnd.databricks.v1+cell": {
     "cellMetadata": {
      "byteLimit": 2048000,
      "implicitDf": true,
      "rowLimit": 10000
     },
     "inputWidgets": {},
     "nuid": "201677f5-8f6c-46a6-b614-d582f8a4fe56",
     "showTitle": false,
     "title": ""
    }
   },
   "outputs": [
    {
     "output_type": "display_data",
     "data": {
      "text/html": [
       "<style scoped>\n",
       "  .table-result-container {\n",
       "    max-height: 300px;\n",
       "    overflow: auto;\n",
       "  }\n",
       "  table, th, td {\n",
       "    border: 1px solid black;\n",
       "    border-collapse: collapse;\n",
       "  }\n",
       "  th, td {\n",
       "    padding: 5px;\n",
       "  }\n",
       "  th {\n",
       "    text-align: left;\n",
       "  }\n",
       "</style><div class='table-result-container'><table class='table-result'><thead style='background-color: white'><tr></tr></thead><tbody></tbody></table></div>"
      ]
     },
     "metadata": {
      "application/vnd.databricks.v1+output": {
       "addedWidgets": {},
       "aggData": [],
       "aggError": "",
       "aggOverflow": false,
       "aggSchema": [],
       "aggSeriesLimitReached": false,
       "aggType": "",
       "arguments": {},
       "columnCustomDisplayInfos": {},
       "data": [],
       "datasetInfos": [],
       "dbfsResultPath": null,
       "isJsonSchema": true,
       "metadata": {
        "dataframeName": null
       },
       "overflow": false,
       "plotOptions": {
        "customPlotOptions": {},
        "displayType": "table",
        "pivotAggregation": null,
        "pivotColumns": null,
        "xColumns": null,
        "yColumns": null
       },
       "removedWidgets": [],
       "schema": [],
       "type": "table"
      }
     },
     "output_type": "display_data"
    }
   ],
   "source": [
    "%sql\n",
    "\n",
    "CREATE DATABASE IF NOT EXISTS spotify;\n",
    "\n",
    "CREATE TABLE IF NOT EXISTS spotify.full_albums (\n",
    "  ArtistName STRING,\n",
    "  AlbumName STRING,\n",
    "  ReleaseDate DATE,\n",
    "  TrackId STRING,\n",
    "  TrackName STRING,\n",
    "  DurationSeconds DECIMAL(8, 2),\n",
    "  Duration STRING,\n",
    "  Popularity INT,\n",
    "  TrackNumber INT\n",
    ") PARTITIONED BY (ArtistName);\n",
    "\n",
    "CREATE TABLE IF NOT EXISTS spotify.full_albums_with_audio_features (\n",
    "  ArtistName STRING,\n",
    "  AlbumName STRING,\n",
    "  ReleaseDate DATE,\n",
    "  TrackId STRING,\n",
    "  TrackName STRING,\n",
    "  DurationSeconds DECIMAL(8, 2),\n",
    "  Duration STRING,\n",
    "  Popularity INT,\n",
    "  TrackNumber INT,\n",
    "  Acousticness DECIMAL(8, 6),\n",
    "  Danceability DECIMAL(5, 3),\n",
    "  Energy DECIMAL(5, 3),\n",
    "  Instrumentalness DECIMAL(10, 8),\n",
    "  Key INT,\n",
    "  Tempo DECIMAL(10, 6),\n",
    "  Liveness DECIMAL(8, 6),\n",
    "  Loudness DECIMAL(5, 3),\n",
    "  TimeSignature INT,\n",
    "  Valence DECIMAL(5, 3)\n",
    ") PARTITIONED BY (ArtistName)"
   ]
  },
  {
   "cell_type": "code",
   "execution_count": 0,
   "metadata": {
    "application/vnd.databricks.v1+cell": {
     "cellMetadata": {
      "byteLimit": 2048000,
      "implicitDf": true,
      "rowLimit": 10000
     },
     "inputWidgets": {},
     "nuid": "a7da70af-0fe3-4ee7-95d0-cd99a698a1ae",
     "showTitle": false,
     "title": ""
    }
   },
   "outputs": [
    {
     "output_type": "display_data",
     "data": {
      "text/html": [
       "<style scoped>\n",
       "  .table-result-container {\n",
       "    max-height: 300px;\n",
       "    overflow: auto;\n",
       "  }\n",
       "  table, th, td {\n",
       "    border: 1px solid black;\n",
       "    border-collapse: collapse;\n",
       "  }\n",
       "  th, td {\n",
       "    padding: 5px;\n",
       "  }\n",
       "  th {\n",
       "    text-align: left;\n",
       "  }\n",
       "</style><div class='table-result-container'><table class='table-result'><thead style='background-color: white'><tr><th>num_affected_rows</th><th>num_inserted_rows</th></tr></thead><tbody><tr><td>57</td><td>57</td></tr></tbody></table></div>"
      ]
     },
     "metadata": {
      "application/vnd.databricks.v1+output": {
       "addedWidgets": {},
       "aggData": [],
       "aggError": "",
       "aggOverflow": false,
       "aggSchema": [],
       "aggSeriesLimitReached": false,
       "aggType": "",
       "arguments": {},
       "columnCustomDisplayInfos": {},
       "data": [
        [
         57,
         57
        ]
       ],
       "datasetInfos": [],
       "dbfsResultPath": null,
       "isJsonSchema": true,
       "metadata": {
        "dataframeName": "_sqldf",
        "executionCount": 135
       },
       "overflow": false,
       "plotOptions": {
        "customPlotOptions": {},
        "displayType": "table",
        "pivotAggregation": null,
        "pivotColumns": null,
        "xColumns": null,
        "yColumns": null
       },
       "removedWidgets": [],
       "schema": [
        {
         "metadata": "{}",
         "name": "num_affected_rows",
         "type": "\"long\""
        },
        {
         "metadata": "{}",
         "name": "num_inserted_rows",
         "type": "\"long\""
        }
       ],
       "type": "table"
      }
     },
     "output_type": "display_data"
    }
   ],
   "source": [
    "%sql\n",
    "\n",
    "INSERT OVERWRITE TABLE spotify.full_albums \n",
    "SELECT\n",
    "  artist_name AS ArtistName,\n",
    "  album_name AS AlbumName,\n",
    "  release_date AS ReleaseDate,\n",
    "  track_id AS TrackId,\n",
    "  track_name AS TrackName,\n",
    "  duration_seconds AS DurationSeconds,\n",
    "  from_unixtime(duration_seconds, 'mm:ss') AS Duration,\n",
    "  popularity AS Popularity,\n",
    "  track_number AS TrackNumber\n",
    "FROM\n",
    "  full_albums;\n"
   ]
  },
  {
   "cell_type": "code",
   "execution_count": 0,
   "metadata": {
    "application/vnd.databricks.v1+cell": {
     "cellMetadata": {
      "byteLimit": 2048000,
      "implicitDf": true,
      "rowLimit": 10000
     },
     "inputWidgets": {},
     "nuid": "8de54c0f-69a6-4dc5-a8bb-4115b4db4211",
     "showTitle": false,
     "title": ""
    }
   },
   "outputs": [
    {
     "output_type": "display_data",
     "data": {
      "text/html": [
       "<style scoped>\n",
       "  .table-result-container {\n",
       "    max-height: 300px;\n",
       "    overflow: auto;\n",
       "  }\n",
       "  table, th, td {\n",
       "    border: 1px solid black;\n",
       "    border-collapse: collapse;\n",
       "  }\n",
       "  th, td {\n",
       "    padding: 5px;\n",
       "  }\n",
       "  th {\n",
       "    text-align: left;\n",
       "  }\n",
       "</style><div class='table-result-container'><table class='table-result'><thead style='background-color: white'><tr><th>num_affected_rows</th><th>num_inserted_rows</th></tr></thead><tbody><tr><td>57</td><td>57</td></tr></tbody></table></div>"
      ]
     },
     "metadata": {
      "application/vnd.databricks.v1+output": {
       "addedWidgets": {},
       "aggData": [],
       "aggError": "",
       "aggOverflow": false,
       "aggSchema": [],
       "aggSeriesLimitReached": false,
       "aggType": "",
       "arguments": {},
       "columnCustomDisplayInfos": {},
       "data": [
        [
         57,
         57
        ]
       ],
       "datasetInfos": [],
       "dbfsResultPath": null,
       "isJsonSchema": true,
       "metadata": {
        "dataframeName": "_sqldf",
        "executionCount": 136
       },
       "overflow": false,
       "plotOptions": {
        "customPlotOptions": {},
        "displayType": "table",
        "pivotAggregation": null,
        "pivotColumns": null,
        "xColumns": null,
        "yColumns": null
       },
       "removedWidgets": [],
       "schema": [
        {
         "metadata": "{}",
         "name": "num_affected_rows",
         "type": "\"long\""
        },
        {
         "metadata": "{}",
         "name": "num_inserted_rows",
         "type": "\"long\""
        }
       ],
       "type": "table"
      }
     },
     "output_type": "display_data"
    }
   ],
   "source": [
    "%sql\n",
    "\n",
    "INSERT OVERWRITE TABLE spotify.full_albums_with_audio_features\n",
    "SELECT\n",
    "  artist_name AS ArtistName,\n",
    "  album_name AS AlbumName,\n",
    "  release_date AS ReleaseDate,\n",
    "  track_id AS TrackId,\n",
    "  track_name AS TrackName,\n",
    "  duration_seconds AS DurationSeconds,\n",
    "  from_unixtime(duration_seconds, 'mm:ss') AS Duration,\n",
    "  popularity AS Popularity,\n",
    "  track_number AS TrackNumber,\n",
    "  acousticness AS Acousticness,\n",
    "  danceability AS Danceability,\n",
    "  energy AS Energy,\n",
    "  instrumentalness as Instrumentalness,\n",
    "  key AS Key,\n",
    "  tempo AS Tempo,\n",
    "  liveness AS Liveness,\n",
    "  loudness AS Loudness,\n",
    "  time_signature AS TimeSignature,\n",
    "  valence AS Valence\n",
    "FROM\n",
    "  full_albums_with_audio_features;"
   ]
  },
  {
   "cell_type": "code",
   "execution_count": 0,
   "metadata": {
    "application/vnd.databricks.v1+cell": {
     "cellMetadata": {
      "byteLimit": 2048000,
      "rowLimit": 10000
     },
     "inputWidgets": {},
     "nuid": "65f02c39-01fb-417d-9bbb-598553665fbf",
     "showTitle": false,
     "title": ""
    }
   },
   "outputs": [],
   "source": [
    "top_5_longest_albums = spark.sql(\"\"\"\n",
    "               SELECT \n",
    "                    AlbumName, \n",
    "                    SUM(DurationSeconds) AS AlbumDuration \n",
    "                FROM \n",
    "                    spotify.full_albums_with_audio_features \n",
    "                GROUP BY \n",
    "                    AlbumName \n",
    "                ORDER BY AlbumDuration DESC\n",
    "                LIMIT 5\n",
    "                \"\"\") \n"
   ]
  },
  {
   "cell_type": "code",
   "execution_count": 0,
   "metadata": {
    "application/vnd.databricks.v1+cell": {
     "cellMetadata": {
      "byteLimit": 2048000,
      "rowLimit": 10000
     },
     "inputWidgets": {},
     "nuid": "bec10e9b-70a5-4417-872b-6172b7117a06",
     "showTitle": false,
     "title": ""
    }
   },
   "outputs": [],
   "source": [
    "import pyspark.sql.functions as F\n",
    "\n",
    "albums_with_most_popular_songs = spark.sql(\"\"\"\n",
    "                                           SELECT\n",
    "                                                AlbumName,\n",
    "                                                CASE \n",
    "                                                    WHEN\n",
    "                                                        Popularity BETWEEN 0 AND 40 THEN 'NotPopular'\n",
    "                                                    WHEN\n",
    "                                                        Popularity BETWEEN 41 AND 100 THEN 'Popular'\n",
    "                                                    ELSE NULL\n",
    "                                                END AS Popularity\n",
    "                                            FROM\n",
    "                                                spotify.full_albums_with_audio_features\n",
    "                                           \"\"\")\n",
    "\n",
    "albums_per_popularity = (albums_with_most_popular_songs\n",
    "    .groupBy(\"AlbumName\")\n",
    "    .pivot(\"Popularity\")\n",
    "    .agg(F.count(\"Popularity\"))\n",
    "    .na.fill(0)\n",
    ")"
   ]
  },
  {
   "cell_type": "code",
   "execution_count": 0,
   "metadata": {
    "application/vnd.databricks.v1+cell": {
     "cellMetadata": {
      "byteLimit": 2048000,
      "rowLimit": 10000
     },
     "inputWidgets": {},
     "nuid": "eebe5196-92a6-4fb5-b6d9-057800689518",
     "showTitle": false,
     "title": ""
    }
   },
   "outputs": [],
   "source": [
    "albums_energy = spark.sql(\"\"\"\n",
    "                            SELECT\n",
    "                                AlbumName,\n",
    "                                CASE \n",
    "                                    WHEN\n",
    "                                        Energy BETWEEN 0 AND 0.3 THEN 'NotEnergetic'\n",
    "                                    WHEN\n",
    "                                        Energy BETWEEN 0.3 AND 0.6 THEN 'MediumEnergetic'\n",
    "                                    WHEN\n",
    "                                        Energy BETWEEN 0.6 AND 1 THEN 'Energetic'\n",
    "                                    ELSE NULL\n",
    "                                END AS Energy\n",
    "                            FROM\n",
    "                                spotify.full_albums_with_audio_features\n",
    "                            \"\"\")\n",
    "\n",
    "albums_per_energy = (albums_energy\n",
    "    .groupBy(\"AlbumName\")\n",
    "    .pivot(\"Energy\")\n",
    "    .agg(F.count(\"Energy\"))\n",
    "    .na.fill(0)\n",
    ")"
   ]
  },
  {
   "cell_type": "code",
   "execution_count": 0,
   "metadata": {
    "application/vnd.databricks.v1+cell": {
     "cellMetadata": {
      "byteLimit": 2048000,
      "rowLimit": 10000
     },
     "inputWidgets": {},
     "nuid": "6a2d4b71-94ae-46b0-87c3-f59d9562a087",
     "showTitle": false,
     "title": ""
    }
   },
   "outputs": [],
   "source": [
    "audio_keys = {\n",
    "    0: 'C',\n",
    "    1: 'C#',\n",
    "    2: 'D',\n",
    "    3: 'D#',\n",
    "    4: 'E',\n",
    "    5: 'F',\n",
    "    6: 'F#',\n",
    "    7: 'G',\n",
    "    8: 'G#',\n",
    "    9: 'A',\n",
    "    10: 'A#',\n",
    "    11: 'B'\n",
    "}\n",
    "\n",
    "audio_keys_map = [(k,)+(v,) for k,v in audio_keys.items()] \n",
    "df_audio_keys_map = spark.createDataFrame(audio_keys_map, ['id','Key'])\n",
    "df_audio_keys_map.createOrReplaceTempView(\"df_audio_keys_map\")\n",
    "\n",
    "tracks_per_keys = spark.sql(\"\"\"SELECT \n",
    "                                    dakm.Key, \n",
    "                                    COUNT(fawaf.Key) AS `NoOfTracksInKey` \n",
    "                               FROM \n",
    "                                    spotify.full_albums_with_audio_features fawaf INNER JOIN\n",
    "                                    df_audio_keys_map dakm ON fawaf.Key = dakm.id\n",
    "                                GROUP BY dakm.Key\"\"\")   "
   ]
  },
  {
   "cell_type": "code",
   "execution_count": 0,
   "metadata": {
    "application/vnd.databricks.v1+cell": {
     "cellMetadata": {
      "byteLimit": 2048000,
      "rowLimit": 10000
     },
     "inputWidgets": {},
     "nuid": "dd53b8ce-f326-4717-b60c-7f1c97f3bc3b",
     "showTitle": false,
     "title": ""
    }
   },
   "outputs": [],
   "source": [
    "from pyspark.sql.types import StringType\n",
    "\n",
    "tracks_list = (\n",
    "    spark.sql(\"SELECT TrackId FROM spotify.full_albums_with_audio_features ORDER BY Popularity DESC LIMIT 5\")\n",
    "            .select(F.col(\"TrackId\"))\n",
    "            .rdd\n",
    "            .flatMap(lambda track_id: track_id)\n",
    "            .collect()\n",
    ")\n",
    "\n",
    "recommended_tracks_based_on_top_5 = get_recommendations(tracks_list)\n",
    "\n",
    "recommended_tracks_based_on_top_5 = (\n",
    "    recommended_tracks_based_on_top_5.select(\n",
    "            F.explode(F.col(\"tracks.id\")).alias(\"TrackId\")\n",
    "        )\n",
    "        .select(F.col(\"TrackId\"))\n",
    "        .rdd\n",
    "        .flatMap(lambda track_id: track_id)\n",
    "        .collect()\n",
    ")\n",
    "\n",
    "\n",
    "recommended_tracks = get_tracks(recommended_tracks_based_on_top_5)\n",
    "\n",
    "recommended_tracks = (\n",
    "    recommended_tracks\n",
    "    .select(\n",
    "        F.regexp_replace(F.col(\"album.artists.name\").cast(StringType()), r\"\\[|\\]\", \"\").alias(\"ArtistName\"),\n",
    "        F.col(\"album.name\").alias(\"AlbumName\"),\n",
    "        F.col(\"name\").alias(\"TrackName\"),\n",
    "        F.col(\"popularity\").alias(\"Popularity\")\n",
    "        )\n",
    "    .orderBy(F.desc(\"Popularity\"))\n",
    ")\n"
   ]
  },
  {
   "cell_type": "code",
   "execution_count": 0,
   "metadata": {
    "application/vnd.databricks.v1+cell": {
     "cellMetadata": {
      "byteLimit": 2048000,
      "rowLimit": 10000
     },
     "inputWidgets": {},
     "nuid": "cbc2ab69-5cd2-417d-976a-0a251de354d8",
     "showTitle": false,
     "title": ""
    }
   },
   "outputs": [],
   "source": [
    "top_5_longest_albums.write.option(\"header\", \"true\").mode('overwrite').saveAsTable('spotify.top_5_longest_albums')\n",
    "albums_per_popularity.write.option(\"header\", \"true\").mode('overwrite').saveAsTable('spotify.albums_per_popularity')\n",
    "albums_per_energy.write.option(\"header\", \"true\").mode('overwrite').saveAsTable('spotify.albums_per_energy')\n",
    "tracks_per_keys.write.option(\"header\", \"true\").mode('overwrite').saveAsTable('spotify.tracks_per_keys')\n",
    "recommended_tracks.write.option(\"header\", \"true\").mode('overwrite').saveAsTable('spotify.recommended_tracks')"
   ]
  }
 ],
 "metadata": {
  "application/vnd.databricks.v1+notebook": {
   "dashboards": [
    {
     "elements": [],
     "globalVars": {},
     "guid": "",
     "layoutOption": {
      "grid": true,
      "stack": true
     },
     "nuid": "d3c9e6e6-4c14-48f3-b405-a78725a5f84f",
     "origId": 735178752343107,
     "title": "Untitled",
     "version": "DashboardViewV1",
     "width": 1024
    },
    {
     "elements": [
      {
       "dashboardResultIndex": 0,
       "elementNUID": "bec10e9b-70a5-4417-872b-6172b7117a06",
       "elementType": "command",
       "guid": "321b5ea4-cdc0-4c1f-a8ee-b641aaa5372f",
       "options": {
        "autoScaleImg": false,
        "scale": 0,
        "showTitle": false,
        "titleAlign": "center"
       },
       "position": {
        "height": 6,
        "width": 12,
        "x": 0,
        "y": 0,
        "z": null
       },
       "resultIndex": null
      }
     ],
     "globalVars": {},
     "guid": "",
     "layoutOption": {
      "grid": true,
      "stack": true
     },
     "nuid": "aab4ce03-8738-4bd7-9140-d2197f0749b5",
     "origId": 2661667506946651,
     "title": "Untitled",
     "version": "DashboardViewV1",
     "width": 1024
    }
   ],
   "environmentMetadata": null,
   "language": "python",
   "notebookMetadata": {
    "mostRecentlyExecutedCommandWithImplicitDF": {
     "commandId": 1603761376431943,
     "dataframes": [
      "_sqldf"
     ]
    },
    "pythonIndentUnit": 4,
    "widgetLayout": [
     {
      "breakBefore": false,
      "name": "BASE_URL",
      "width": 171
     },
     {
      "breakBefore": false,
      "name": "CLIENT_ID",
      "width": 171
     },
     {
      "breakBefore": false,
      "name": "CLIENT_SECRET",
      "width": 171
     },
     {
      "breakBefore": false,
      "name": "TOKEN_URL",
      "width": 171
     },
     {
      "breakBefore": false,
      "name": "PlaylistId",
      "width": 171
     }
    ]
   },
   "notebookName": "Data Analysis",
   "widgets": {
    "BASE_URL": {
     "currentValue": "https://api.spotify.com/v1",
     "nuid": "8a155d9e-05f4-4d62-be38-2d2e240a83c8",
     "typedWidgetInfo": null,
     "widgetInfo": {
      "widgetType": "text",
      "defaultValue": "https://api.spotify.com/v1",
      "label": null,
      "name": "BASE_URL",
      "options": {
       "widgetType": "text",
       "autoCreated": null,
       "validationRegex": null
      }
     }
    },
    "PlaylistId": {
     "currentValue": "4jRT4YrhlZ1ZI7RNHI7p5s",
     "nuid": "38d4b6f2-da6a-4de2-a7e1-84559b960492",
     "typedWidgetInfo": null,
     "widgetInfo": {
      "widgetType": "text",
      "defaultValue": "",
      "label": null,
      "name": "PlaylistId",
      "options": {
       "widgetType": "text",
       "autoCreated": null,
       "validationRegex": null
      }
     }
    },
    "TOKEN_URL": {
     "currentValue": "https://accounts.spotify.com/api/token",
     "nuid": "6e8df169-8ba4-434c-b9ac-372a81e10e50",
     "typedWidgetInfo": null,
     "widgetInfo": {
      "widgetType": "text",
      "defaultValue": "https://accounts.spotify.com/api/token",
      "label": null,
      "name": "TOKEN_URL",
      "options": {
       "widgetType": "text",
       "autoCreated": null,
       "validationRegex": null
      }
     }
    }
   }
  }
 },
 "nbformat": 4,
 "nbformat_minor": 0
}
